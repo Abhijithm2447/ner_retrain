{
 "cells": [
  {
   "cell_type": "markdown",
   "metadata": {},
   "source": [
    "# Rest API"
   ]
  },
  {
   "cell_type": "code",
   "execution_count": 1,
   "metadata": {},
   "outputs": [],
   "source": [
    "import requests\n",
    "import json"
   ]
  },
  {
   "cell_type": "code",
   "execution_count": 21,
   "metadata": {},
   "outputs": [
    {
     "data": {
      "text/plain": [
       "'{\"query\": \"Horses are too tall and they pretend to care about your feelings\", \"entity_list\": [[0, 6, \"ANIMAL\"], [0, 6, \"ANIMAL\"]]}'"
      ]
     },
     "execution_count": 21,
     "metadata": {},
     "output_type": "execute_result"
    }
   ],
   "source": [
    "import json\n",
    "context = {\n",
    "  'query' :\"Horses are too tall and they pretend to care about your feelings\",\n",
    "  'entity_list' : [[ 0,  6, 'ANIMAL'],[ 0, 6,'ANIMAL'],]\n",
    "}\n",
    "json.dumps(context)"
   ]
  },
  {
   "cell_type": "code",
   "execution_count": 16,
   "metadata": {},
   "outputs": [],
   "source": [
    "obj_SerializerMixin = SerializerMixin()"
   ]
  },
  {
   "cell_type": "code",
   "execution_count": 72,
   "metadata": {},
   "outputs": [
    {
     "name": "stdout",
     "output_type": "stream",
     "text": [
      "200\n",
      "{'result': ['ANIMAL(0,6) added', 'ANIMAL(8,10) added'], 'error': []}\n"
     ]
    }
   ],
   "source": [
    "BASE_URL = 'http://127.0.0.1:8000/'\n",
    "ENDPOINT = 'save_data2db/'\n",
    "\n",
    "context = {\n",
    "  'query' :\"Horses are too tall and they pretend to care about your feelings new\",\n",
    "  'entity_list' : [( 0,  6, 'ANIMAL'), ( 8,  10, 'ANIMAL')]\n",
    "}\n",
    "# new_emp = json.dumps(context)\n",
    "resp = requests.post(BASE_URL+ENDPOINT, data=context)\n",
    "print(resp.status_code)\n",
    "if resp.status_code == 200:\n",
    "    print(resp.json())\n",
    "if resp.status_code == 406:\n",
    "    print(resp.json())\n",
    "if resp.status_code == 400:\n",
    "    print(resp.json())"
   ]
  },
  {
   "cell_type": "code",
   "execution_count": 74,
   "metadata": {},
   "outputs": [
    {
     "name": "stdout",
     "output_type": "stream",
     "text": [
      "200\n",
      "{'msg': 'This is from get method'}\n"
     ]
    }
   ],
   "source": [
    "BASE_URL = 'http://127.0.0.1:8000/'\n",
    "ENDPOINT = 'train/'\n",
    "\n",
    "context = {\n",
    "}\n",
    "# new_emp = json.dumps(context)\n",
    "resp = requests.post(BASE_URL+ENDPOINT, data=context)\n",
    "print(resp.status_code)\n",
    "if resp.status_code == 200:\n",
    "    print(resp.json())\n",
    "if resp.status_code == 406:\n",
    "    print(resp.json())\n",
    "if resp.status_code == 400:\n",
    "    print(resp.json())"
   ]
  },
  {
   "cell_type": "code",
   "execution_count": null,
   "metadata": {},
   "outputs": [],
   "source": []
  }
 ],
 "metadata": {
  "kernelspec": {
   "display_name": "Python 3",
   "language": "python",
   "name": "python3"
  },
  "language_info": {
   "codemirror_mode": {
    "name": "ipython",
    "version": 3
   },
   "file_extension": ".py",
   "mimetype": "text/x-python",
   "name": "python",
   "nbconvert_exporter": "python",
   "pygments_lexer": "ipython3",
   "version": "3.6.8"
  }
 },
 "nbformat": 4,
 "nbformat_minor": 2
}
